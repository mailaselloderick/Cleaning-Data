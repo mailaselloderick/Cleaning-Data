{
 "cells": [
  {
   "cell_type": "code",
   "execution_count": 38,
   "id": "585e87ed",
   "metadata": {},
   "outputs": [],
   "source": [
    "import pandas as pd"
   ]
  },
  {
   "cell_type": "markdown",
   "id": "0b1f0883",
   "metadata": {},
   "source": [
    "# 1.Read the data from the CSV file into a DataFrame and display the data to get a count of the number of rows."
   ]
  },
  {
   "cell_type": "code",
   "execution_count": 39,
   "id": "bf0d3841",
   "metadata": {},
   "outputs": [],
   "source": [
    "df_ramen = pd.read_csv(\"ramen-ratings.csv\")"
   ]
  },
  {
   "cell_type": "code",
   "execution_count": 40,
   "id": "fc22620f",
   "metadata": {},
   "outputs": [
    {
     "name": "stdout",
     "output_type": "stream",
     "text": [
      "<class 'pandas.core.frame.DataFrame'>\n",
      "RangeIndex: 2577 entries, 0 to 2576\n",
      "Data columns (total 5 columns):\n",
      " #   Column   Non-Null Count  Dtype  \n",
      "---  ------   --------------  -----  \n",
      " 0   Brand    2577 non-null   object \n",
      " 1   Variety  2577 non-null   object \n",
      " 2   Style    2575 non-null   object \n",
      " 3   Country  2577 non-null   object \n",
      " 4   Stars    2577 non-null   float64\n",
      "dtypes: float64(1), object(4)\n",
      "memory usage: 100.8+ KB\n"
     ]
    }
   ],
   "source": [
    "df_ramen.info()"
   ]
  },
  {
   "cell_type": "markdown",
   "id": "994c0731",
   "metadata": {},
   "source": [
    "# 2.Rename the Stars column to Rating."
   ]
  },
  {
   "cell_type": "code",
   "execution_count": 41,
   "id": "984bf50e",
   "metadata": {},
   "outputs": [],
   "source": [
    "df_ramen.rename(columns={'Stars':'Rating'},inplace=True)"
   ]
  },
  {
   "cell_type": "markdown",
   "id": "c63d7831",
   "metadata": {},
   "source": [
    "# 3.Convert the Style column to the category type"
   ]
  },
  {
   "cell_type": "code",
   "execution_count": 75,
   "id": "e4f85c38",
   "metadata": {},
   "outputs": [],
   "source": [
    "df_ramen.Style=df_ramen.Style.astype('category')"
   ]
  },
  {
   "cell_type": "markdown",
   "id": "28650a09",
   "metadata": {},
   "source": [
    "# 4.Drop the country column."
   ]
  },
  {
   "cell_type": "code",
   "execution_count": 45,
   "id": "4d9223d1",
   "metadata": {},
   "outputs": [],
   "source": [
    "df_ramen.drop(columns=['Country'],inplace=True)"
   ]
  },
  {
   "cell_type": "markdown",
   "id": "c6d5e11b",
   "metadata": {},
   "source": [
    "# 5.Check that the changes were applied to the DataFrame"
   ]
  },
  {
   "cell_type": "code",
   "execution_count": 46,
   "id": "b66676fb",
   "metadata": {},
   "outputs": [
    {
     "name": "stdout",
     "output_type": "stream",
     "text": [
      "<class 'pandas.core.frame.DataFrame'>\n",
      "RangeIndex: 2577 entries, 0 to 2576\n",
      "Data columns (total 4 columns):\n",
      " #   Column   Non-Null Count  Dtype   \n",
      "---  ------   --------------  -----   \n",
      " 0   Brand    2577 non-null   object  \n",
      " 1   Variety  2577 non-null   object  \n",
      " 2   Style    2575 non-null   category\n",
      " 3   Rating   2577 non-null   float64 \n",
      "dtypes: category(1), float64(1), object(2)\n",
      "memory usage: 63.4+ KB\n"
     ]
    }
   ],
   "source": [
    "df_ramen.info()"
   ]
  },
  {
   "cell_type": "markdown",
   "id": "062d1a4b",
   "metadata": {},
   "source": [
    "# 6.Rename the Brand column to Company and the Variety column to Product."
   ]
  },
  {
   "cell_type": "code",
   "execution_count": 47,
   "id": "69ca074c",
   "metadata": {},
   "outputs": [],
   "source": [
    "df_ramen.rename(columns={'Brand':'Company','Variety':'Product'},inplace=True)"
   ]
  },
  {
   "cell_type": "markdown",
   "id": "fdf8e8d5",
   "metadata": {},
   "source": [
    "# 7.Use the duplicated() method to display all rows with duplicate Company/Product combinations."
   ]
  },
  {
   "cell_type": "code",
   "execution_count": 68,
   "id": "3fcc6c94",
   "metadata": {},
   "outputs": [
    {
     "data": {
      "text/plain": [
       "0       False\n",
       "1       False\n",
       "2       False\n",
       "3       False\n",
       "4       False\n",
       "        ...  \n",
       "2572    False\n",
       "2573    False\n",
       "2574    False\n",
       "2575    False\n",
       "2576    False\n",
       "Length: 2517, dtype: bool"
      ]
     },
     "execution_count": 68,
     "metadata": {},
     "output_type": "execute_result"
    }
   ],
   "source": [
    "df_ramen.duplicated(subset=['Company','Product'],keep=False)"
   ]
  },
  {
   "cell_type": "markdown",
   "id": "1497b0dd",
   "metadata": {},
   "source": [
    "# 8.Drop all rows with duplicate Company/Product combinations except for the first row in each set.Then, display the data to get a count of the number of rows, and compare that with the original number of rows to see how many were dropped"
   ]
  },
  {
   "cell_type": "code",
   "execution_count": 62,
   "id": "7bf7fcb0",
   "metadata": {},
   "outputs": [],
   "source": [
    "df_ramen.drop_duplicates(subset=['Company','Product'], keep='first',inplace=True)"
   ]
  },
  {
   "cell_type": "code",
   "execution_count": 64,
   "id": "6d35ef1e",
   "metadata": {},
   "outputs": [
    {
     "name": "stdout",
     "output_type": "stream",
     "text": [
      "<class 'pandas.core.frame.DataFrame'>\n",
      "Index: 2517 entries, 0 to 2576\n",
      "Data columns (total 4 columns):\n",
      " #   Column   Non-Null Count  Dtype   \n",
      "---  ------   --------------  -----   \n",
      " 0   Company  2517 non-null   object  \n",
      " 1   Product  2517 non-null   object  \n",
      " 2   Style    2515 non-null   category\n",
      " 3   Rating   2517 non-null   float64 \n",
      "dtypes: category(1), float64(1), object(2)\n",
      "memory usage: 81.5+ KB\n"
     ]
    }
   ],
   "source": [
    "df_ramen.info()"
   ]
  },
  {
   "cell_type": "markdown",
   "id": "f143dd7d",
   "metadata": {},
   "source": [
    "# 9.Drop any rows that have missing values"
   ]
  },
  {
   "cell_type": "code",
   "execution_count": 71,
   "id": "c07ba841",
   "metadata": {},
   "outputs": [],
   "source": [
    "df_ramen.dropna(inplace=True)"
   ]
  },
  {
   "cell_type": "markdown",
   "id": "a0b031f4",
   "metadata": {},
   "source": [
    "# 10.Check again to make sure that all of your changes were applied"
   ]
  },
  {
   "cell_type": "code",
   "execution_count": 73,
   "id": "8dcad9a7",
   "metadata": {},
   "outputs": [
    {
     "name": "stdout",
     "output_type": "stream",
     "text": [
      "<class 'pandas.core.frame.DataFrame'>\n",
      "Index: 2515 entries, 0 to 2576\n",
      "Data columns (total 4 columns):\n",
      " #   Column   Non-Null Count  Dtype   \n",
      "---  ------   --------------  -----   \n",
      " 0   Company  2515 non-null   object  \n",
      " 1   Product  2515 non-null   object  \n",
      " 2   Style    2515 non-null   category\n",
      " 3   Rating   2515 non-null   float64 \n",
      "dtypes: category(1), float64(1), object(2)\n",
      "memory usage: 81.4+ KB\n"
     ]
    }
   ],
   "source": [
    "df_ramen.info()"
   ]
  }
 ],
 "metadata": {
  "kernelspec": {
   "display_name": "Python 3",
   "language": "python",
   "name": "python3"
  },
  "language_info": {
   "codemirror_mode": {
    "name": "ipython",
    "version": 3
   },
   "file_extension": ".py",
   "mimetype": "text/x-python",
   "name": "python",
   "nbconvert_exporter": "python",
   "pygments_lexer": "ipython3",
   "version": "3.13.7"
  }
 },
 "nbformat": 4,
 "nbformat_minor": 5
}
